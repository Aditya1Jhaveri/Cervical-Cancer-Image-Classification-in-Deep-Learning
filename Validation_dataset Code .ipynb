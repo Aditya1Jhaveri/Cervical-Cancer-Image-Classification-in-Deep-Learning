{
 "cells": [
  {
   "cell_type": "code",
   "execution_count": 1,
   "id": "97c8bb3c",
   "metadata": {},
   "outputs": [
    {
     "name": "stdout",
     "output_type": "stream",
     "text": [
      "Validation dataset generated successfully.\n"
     ]
    }
   ],
   "source": [
    "import os\n",
    "import shutil\n",
    "from sklearn.model_selection import train_test_split\n",
    "\n",
    "# Paths to your dataset folders\n",
    "train_dataset_path = \"NLM Augmentation/train\"\n",
    "validation_dataset_path = \"Validation_dataset\"\n",
    "\n",
    "class_folders = [f.name for f in os.scandir(train_dataset_path) if f.is_dir()]\n",
    "\n",
    "# Create the validation dataset folder if it doesn't exist\n",
    "os.makedirs(validation_dataset_path, exist_ok=True)\n",
    "\n",
    "# For each class, split images into training and validation sets\n",
    "for class_folder in class_folders:\n",
    "    class_train_path = os.path.join(train_dataset_path, class_folder)\n",
    "    class_validation_path = os.path.join(validation_dataset_path, class_folder)\n",
    "    os.makedirs(class_validation_path, exist_ok=True)\n",
    "\n",
    "    # Get a list of image filenames in the class train folder\n",
    "    image_filenames = os.listdir(class_train_path)\n",
    "\n",
    "    # Split the data into training and validation sets for the current class\n",
    "    train_filenames, validation_filenames = train_test_split(image_filenames, test_size=0.2, random_state=42)\n",
    "\n",
    "    # Move validation images to the class validation folder\n",
    "    for filename in validation_filenames:\n",
    "        source_path = os.path.join(class_train_path, filename)\n",
    "        target_path = os.path.join(class_validation_path, filename)\n",
    "        shutil.move(source_path, target_path)\n",
    "\n",
    "print(\"Validation dataset generated successfully.\")\n"
   ]
  }
 ],
 "metadata": {
  "kernelspec": {
   "display_name": "Python 3 (ipykernel)",
   "language": "python",
   "name": "python3"
  },
  "language_info": {
   "codemirror_mode": {
    "name": "ipython",
    "version": 3
   },
   "file_extension": ".py",
   "mimetype": "text/x-python",
   "name": "python",
   "nbconvert_exporter": "python",
   "pygments_lexer": "ipython3",
   "version": "3.10.9"
  }
 },
 "nbformat": 4,
 "nbformat_minor": 5
}
