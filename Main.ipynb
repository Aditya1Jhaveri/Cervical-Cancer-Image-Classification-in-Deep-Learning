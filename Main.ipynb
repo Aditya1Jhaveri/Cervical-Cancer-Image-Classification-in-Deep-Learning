{
 "cells": [
  {
   "cell_type": "code",
   "execution_count": 2,
   "id": "8df73ca6",
   "metadata": {},
   "outputs": [
    {
     "name": "stdout",
     "output_type": "stream",
     "text": [
      "Resized images done\n"
     ]
    }
   ],
   "source": [
    "from PIL import Image\n",
    "import os\n",
    "\n",
    "input_base_folder = 'Dataset Proper/Test'\n",
    "output_base_folder = 'New Dataset_proper_resized/test'\n",
    "\n",
    "# List of class folders\n",
    "class_folders = os.listdir(input_base_folder)\n",
    "\n",
    "# Iterate through class folders\n",
    "for class_folder in class_folders:\n",
    "    input_folder = os.path.join(input_base_folder, class_folder)\n",
    "    output_folder = os.path.join(output_base_folder, class_folder)\n",
    "\n",
    "    # Create the output folder if it doesn't exist\n",
    "    os.makedirs(output_folder, exist_ok=True)\n",
    "\n",
    "    # Resize images and save them to the output folder\n",
    "    for filename in os.listdir(input_folder):\n",
    "        image_path = os.path.join(input_folder, filename)\n",
    "\n",
    "        # Load the image using PIL\n",
    "        image = Image.open(image_path)\n",
    "\n",
    "        # Resize the image to your desired size (e.g., 224x224)\n",
    "        target_size = (224, 224)\n",
    "        image = image.resize(target_size)\n",
    "\n",
    "        # Save the resized image to the output folder\n",
    "        save_path = os.path.join(output_folder, filename)\n",
    "        image.save(save_path)\n",
    "\n",
    "print(\"Resized images done\")\n"
   ]
  },
  {
   "cell_type": "code",
   "execution_count": 4,
   "id": "d2d486cd",
   "metadata": {},
   "outputs": [
    {
     "name": "stdout",
     "output_type": "stream",
     "text": [
      "Noise removal and PNG conversion completed.\n"
     ]
    }
   ],
   "source": [
    "import tensorflow as tf\n",
    "import cv2\n",
    "import os\n",
    "\n",
    "# Path to the directory containing the Herlev dataset\n",
    "dataset_dir = 'New Dataset_proper_resized/test'\n",
    "\n",
    "# Detect classes automatically\n",
    "classes = [class_name for class_name in os.listdir(dataset_dir) if os.path.isdir(os.path.join(dataset_dir, class_name))]\n",
    "\n",
    "# Define the NLM filter function\n",
    "def nlm_filter(image):\n",
    "    filtered_image = cv2.fastNlMeansDenoisingColored(image, None, 10, 10, 7, 21)  # Adjust parameters as needed\n",
    "    return filtered_image\n",
    "\n",
    "# Iterate through each class\n",
    "for class_name in classes:\n",
    "    class_dir = os.path.join(dataset_dir, class_name)\n",
    "    output_dir = os.path.join('New NLM Filter/test', class_name, f'{class_name}_filtered_nlm')\n",
    "    os.makedirs(output_dir, exist_ok=True)\n",
    "\n",
    "    # List all image files in the class directory\n",
    "    image_files = [os.path.join(class_dir, filename) for filename in os.listdir(class_dir) if filename.lower().endswith('.bmp')]\n",
    "\n",
    "    # Apply NLM filtering to each image, convert to PNG, and save the filtered images\n",
    "    for image_file in image_files:\n",
    "        # Load the image using OpenCV\n",
    "        image = cv2.imread(image_file)\n",
    "\n",
    "        # Convert the image to RGB (OpenCV reads images in BGR format)\n",
    "        image_rgb = cv2.cvtColor(image, cv2.COLOR_BGR2RGB)\n",
    "\n",
    "        # Apply NLM filtering\n",
    "        filtered_image = nlm_filter(image_rgb)\n",
    "\n",
    "        # Get the file name without extension\n",
    "        filename = os.path.splitext(os.path.basename(image_file))[0]\n",
    "\n",
    "        # Save the filtered image as PNG format\n",
    "        output_file = os.path.join(output_dir, f'{filename}_filtered.png')\n",
    "        cv2.imwrite(output_file, filtered_image)\n",
    "\n",
    "print(\"Noise removal and PNG conversion completed.\")\n"
   ]
  }
 ],
 "metadata": {
  "kernelspec": {
   "display_name": "Python 3 (ipykernel)",
   "language": "python",
   "name": "python3"
  },
  "language_info": {
   "codemirror_mode": {
    "name": "ipython",
    "version": 3
   },
   "file_extension": ".py",
   "mimetype": "text/x-python",
   "name": "python",
   "nbconvert_exporter": "python",
   "pygments_lexer": "ipython3",
   "version": "3.10.9"
  }
 },
 "nbformat": 4,
 "nbformat_minor": 5
}
