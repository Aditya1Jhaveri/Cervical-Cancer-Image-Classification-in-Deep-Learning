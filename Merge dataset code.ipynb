{
 "cells": [
  {
   "cell_type": "code",
   "execution_count": 2,
   "id": "dca44e11",
   "metadata": {},
   "outputs": [
    {
     "name": "stdout",
     "output_type": "stream",
     "text": [
      "Merging complete.\n"
     ]
    }
   ],
   "source": [
    "import os\n",
    "import shutil\n",
    "\n",
    "# Define the directories for train, validation, and test datasets\n",
    "train_dir = 'NLM Augmentation/train'  # Replace with your train dataset directory\n",
    "val_dir = 'Validation_dataset'  # Replace with your validation dataset directory\n",
    "test_dir = 'NLM Augmentation/test'    # Replace with your test dataset directory\n",
    "output_dir = 'NEW_DATASET_SIZE'  # Replace with the directory where you want to store the merged dataset\n",
    "\n",
    "# Create the output directory if it doesn't exist\n",
    "os.makedirs(output_dir, exist_ok=True)\n",
    "\n",
    "# List the classes in the train dataset (assuming each subdirectory corresponds to a class)\n",
    "classes = os.listdir(train_dir)\n",
    "\n",
    "# Merge train, validation, and test datasets by copying files to the output directory\n",
    "for class_name in classes:\n",
    "    train_class_dir = os.path.join(train_dir, class_name)\n",
    "    val_class_dir = os.path.join(val_dir, class_name)\n",
    "    test_class_dir = os.path.join(test_dir, class_name)\n",
    "    output_class_dir = os.path.join(output_dir, class_name)\n",
    "    \n",
    "    # Create the class directory in the merged dataset if it doesn't exist\n",
    "    os.makedirs(output_class_dir, exist_ok=True)\n",
    "    \n",
    "    # Copy images from the train dataset\n",
    "    train_files = os.listdir(train_class_dir)\n",
    "    for file in train_files:\n",
    "        src_path = os.path.join(train_class_dir, file)\n",
    "        dst_path = os.path.join(output_class_dir, file)\n",
    "        shutil.copy(src_path, dst_path)\n",
    "    \n",
    "    # Copy images from the validation dataset\n",
    "    val_files = os.listdir(val_class_dir)\n",
    "    for file in val_files:\n",
    "        src_path = os.path.join(val_class_dir, file)\n",
    "        dst_path = os.path.join(output_class_dir, file)\n",
    "        shutil.copy(src_path, dst_path)\n",
    "    \n",
    "    # Copy images from the test dataset\n",
    "    test_files = os.listdir(test_class_dir)\n",
    "    for file in test_files:\n",
    "        src_path = os.path.join(test_class_dir, file)\n",
    "        dst_path = os.path.join(output_class_dir, file)\n",
    "        shutil.copy(src_path, dst_path)\n",
    "\n",
    "print(\"Merging complete.\")\n"
   ]
  }
 ],
 "metadata": {
  "kernelspec": {
   "display_name": "Python 3 (ipykernel)",
   "language": "python",
   "name": "python3"
  },
  "language_info": {
   "codemirror_mode": {
    "name": "ipython",
    "version": 3
   },
   "file_extension": ".py",
   "mimetype": "text/x-python",
   "name": "python",
   "nbconvert_exporter": "python",
   "pygments_lexer": "ipython3",
   "version": "3.10.9"
  }
 },
 "nbformat": 4,
 "nbformat_minor": 5
}
