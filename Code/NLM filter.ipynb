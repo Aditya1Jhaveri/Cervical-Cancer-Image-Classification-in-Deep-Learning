{
 "cells": [
  {
   "cell_type": "code",
   "execution_count": 24,
   "id": "78f19daa",
   "metadata": {},
   "outputs": [
    {
     "name": "stdout",
     "output_type": "stream",
     "text": [
      "Noise removal and PNG conversion completed.\n"
     ]
    }
   ],
   "source": [
    "import tensorflow as tf\n",
    "import cv2\n",
    "import os\n",
    "\n",
    "# Path to the directory containing the Herlev dataset\n",
    "dataset_dir = 'Herlev dataset/train/severe_dysplastic'\n",
    "\n",
    "# Create a directory to save the filtered images\n",
    "output_dir = 'NLM Filters/train/severe_dysplastic_filtered_nlm'\n",
    "os.makedirs(output_dir, exist_ok=True)\n",
    "\n",
    "# List all image files in the dataset directory\n",
    "image_files = [os.path.join(dataset_dir, filename) for filename in os.listdir(dataset_dir) if filename.lower().endswith('.bmp')]\n",
    "\n",
    "# Define the NLM filter function\n",
    "def nlm_filter(image):\n",
    "    filtered_image = cv2.fastNlMeansDenoisingColored(image, None, 10, 10, 7, 21)  # Adjust parameters as needed\n",
    "    return filtered_image\n",
    "\n",
    "# Apply NLM filtering to each image, convert to PNG, and save the filtered images\n",
    "for image_file in image_files:\n",
    "    # Load the image using OpenCV\n",
    "    image = cv2.imread(image_file)\n",
    "\n",
    "    # Convert the image to RGB (OpenCV reads images in BGR format)\n",
    "    image_rgb = cv2.cvtColor(image, cv2.COLOR_BGR2RGB)\n",
    "\n",
    "    # Apply NLM filtering\n",
    "    filtered_image = nlm_filter(image_rgb)\n",
    "\n",
    "    # Get the file name without extension\n",
    "    filename = os.path.splitext(os.path.basename(image_file))[0]\n",
    "\n",
    "    # Save the filtered image as PNG format\n",
    "    output_file = os.path.join(output_dir, f'{filename}_filtered.png')\n",
    "    cv2.imwrite(output_file, filtered_image)\n",
    "\n",
    "print(\"Noise removal and PNG conversion completed.\")\n"
   ]
  },
  {
   "cell_type": "code",
   "execution_count": 25,
   "id": "ca7b2996",
   "metadata": {},
   "outputs": [
    {
     "name": "stdout",
     "output_type": "stream",
     "text": [
      "carcinoma_in_situ_filtered_nlm\n",
      "light_dysplastic_filtered_nlm\n",
      "moderate_dysplastic_filtered_nlm\n",
      "normal_columnar_filtered_nlm\n",
      "normal_intermediate_filtered_nlm\n",
      "normal_superficiel_filtered_nlm\n",
      "severe_dysplastic_filtered_nlm\n"
     ]
    }
   ],
   "source": [
    "import os\n",
    "\n",
    "# Path to the directory containing the filtered images\n",
    "output_dir = 'NLM Filters/train'\n",
    "\n",
    "# List all image files in the output directory\n",
    "filtered_files = os.listdir(output_dir)\n",
    "\n",
    "# Print the filtered image filenames\n",
    "for file_name in filtered_files:\n",
    "    print(file_name)"
   ]
  }
 ],
 "metadata": {
  "kernelspec": {
   "display_name": "Python 3 (ipykernel)",
   "language": "python",
   "name": "python3"
  },
  "language_info": {
   "codemirror_mode": {
    "name": "ipython",
    "version": 3
   },
   "file_extension": ".py",
   "mimetype": "text/x-python",
   "name": "python",
   "nbconvert_exporter": "python",
   "pygments_lexer": "ipython3",
   "version": "3.10.9"
  }
 },
 "nbformat": 4,
 "nbformat_minor": 5
}
