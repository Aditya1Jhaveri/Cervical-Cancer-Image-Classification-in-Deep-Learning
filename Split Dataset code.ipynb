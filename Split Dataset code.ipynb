{
 "cells": [
  {
   "cell_type": "code",
   "execution_count": 3,
   "id": "b16cda56",
   "metadata": {},
   "outputs": [
    {
     "name": "stdout",
     "output_type": "stream",
     "text": [
      "Herlev dataset split into train, validation, and test sets.\n"
     ]
    }
   ],
   "source": [
    "import os\n",
    "import shutil\n",
    "import random\n",
    "\n",
    "# Set your data directory\n",
    "data_dir = 'NEW DATASET'  # Replace with the path to your Herlev dataset\n",
    "\n",
    "# Define the directory names for the splits\n",
    "train_dir = 'New Herlev Dataset/train'\n",
    "val_dir = 'New Herlev Dataset/validation'\n",
    "test_dir = 'New Herlev Dataset/test'\n",
    "\n",
    "# Create the directories if they don't exist\n",
    "os.makedirs(train_dir, exist_ok=True)\n",
    "os.makedirs(val_dir, exist_ok=True)\n",
    "os.makedirs(test_dir, exist_ok=True)\n",
    "\n",
    "# Define the ratio for splitting (e.g., 70% train, 15% validation, 15% test)\n",
    "train_ratio = 0.7\n",
    "val_ratio = 0.18\n",
    "test_ratio = 0.12\n",
    "\n",
    "# Loop through each class in the dataset\n",
    "for class_name in os.listdir(data_dir):\n",
    "    class_dir = os.path.join(data_dir, class_name)\n",
    "    if os.path.isdir(class_dir):\n",
    "        # List all the files in the class directory\n",
    "        files = os.listdir(class_dir)\n",
    "        random.shuffle(files)  # Shuffle the files\n",
    "        \n",
    "        num_files = len(files)\n",
    "        \n",
    "        # Calculate the number of samples for each split\n",
    "        num_train = int(train_ratio * num_files)\n",
    "        num_val = int(val_ratio * num_files)\n",
    "        num_test = num_files - num_train - num_val\n",
    "        \n",
    "        # Create subdirectories for each split\n",
    "        class_train_dir = os.path.join(train_dir, class_name)\n",
    "        class_val_dir = os.path.join(val_dir, class_name)\n",
    "        class_test_dir = os.path.join(test_dir, class_name)\n",
    "        \n",
    "        os.makedirs(class_train_dir, exist_ok=True)\n",
    "        os.makedirs(class_val_dir, exist_ok=True)\n",
    "        os.makedirs(class_test_dir, exist_ok=True)\n",
    "        \n",
    "        # Copy files to respective splits\n",
    "        for i, file in enumerate(files):\n",
    "            src_path = os.path.join(class_dir, file)\n",
    "            if i < num_train:\n",
    "                dst_path = os.path.join(class_train_dir, file)\n",
    "            elif i < num_train + num_val:\n",
    "                dst_path = os.path.join(class_val_dir, file)\n",
    "            else:\n",
    "                dst_path = os.path.join(class_test_dir, file)\n",
    "            \n",
    "            shutil.copy(src_path, dst_path)\n",
    "\n",
    "print(\"Herlev dataset split into train, validation, and test sets.\")\n"
   ]
  }
 ],
 "metadata": {
  "kernelspec": {
   "display_name": "Python 3 (ipykernel)",
   "language": "python",
   "name": "python3"
  },
  "language_info": {
   "codemirror_mode": {
    "name": "ipython",
    "version": 3
   },
   "file_extension": ".py",
   "mimetype": "text/x-python",
   "name": "python",
   "nbconvert_exporter": "python",
   "pygments_lexer": "ipython3",
   "version": "3.10.9"
  }
 },
 "nbformat": 4,
 "nbformat_minor": 5
}
