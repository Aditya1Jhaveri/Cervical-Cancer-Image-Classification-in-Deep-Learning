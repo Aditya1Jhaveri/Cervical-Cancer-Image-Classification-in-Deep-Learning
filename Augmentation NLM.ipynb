{
 "cells": [
  {
   "cell_type": "code",
   "execution_count": 16,
   "id": "379f61bf",
   "metadata": {},
   "outputs": [
    {
     "name": "stdout",
     "output_type": "stream",
     "text": [
      "Augmented images done \n"
     ]
    }
   ],
   "source": [
    "from tensorflow.keras.preprocessing.image import ImageDataGenerator, load_img, img_to_array\n",
    "from PIL import Image\n",
    "import os\n",
    "\n",
    "input_folder = 'NLM Filters/test/severe_dysplastic_filtered_nlm'\n",
    "output_folder = 'NLM Augmentation/test/severe_dysplastic_filtered_nlm_aug'\n",
    "\n",
    "# Create an ImageDataGenerator and specify the augmentation parameters\n",
    "datagen = ImageDataGenerator(\n",
    "    rotation_range=45,\n",
    "    width_shift_range=0.2,\n",
    "    height_shift_range=0.2,\n",
    "    shear_range=0.2,\n",
    "    zoom_range=0.2,\n",
    "    horizontal_flip=True,\n",
    "    vertical_flip=True,\n",
    "    fill_mode='nearest',\n",
    "    rescale=1./255  # Normalize pixel values\n",
    ")\n",
    "\n",
    "# Generate augmented images and save them to the output folder\n",
    "for filename in os.listdir(input_folder):\n",
    "    image_path = os.path.join(input_folder, filename)\n",
    "\n",
    "    # Load the image using Keras' load_img function\n",
    "    image = load_img(image_path)\n",
    "\n",
    "    # Resize the image to your desired size (e.g., 224x224)\n",
    "    target_size = (224, 224)\n",
    "    image = image.resize(target_size)\n",
    "\n",
    "    # Convert the image to a NumPy array\n",
    "    image_array = img_to_array(image)\n",
    "\n",
    "    # Reshape the image array to match the expected input shape of the generator\n",
    "    image_array = image_array.reshape((1,) + image_array.shape)\n",
    "\n",
    "    # Generate augmented images using the datagen.flow() method\n",
    "    augmented_images = datagen.flow(\n",
    "        image_array,\n",
    "        batch_size=16,\n",
    "        save_to_dir=output_folder,\n",
    "        save_prefix='augmented',\n",
    "        save_format='png'\n",
    "    )\n",
    "\n",
    "    # Generate and save the augmented images\n",
    "    num_augmented_images = 5\n",
    "    for i, augmented_image in enumerate(augmented_images):\n",
    "        if i >= num_augmented_images:\n",
    "            break\n",
    "\n",
    "        augmented_image_pil = Image.fromarray((augmented_image[0] * 255).astype('uint8'))  # Ensure correct range\n",
    "\n",
    "        save_filename = f'{filename.split(\".\")[0]}_{i}.png'\n",
    "        save_path = os.path.join(output_folder, save_filename)\n",
    "        augmented_image_pil.save(save_path)\n",
    "\n",
    "print(\"Augmented images done \")\n"
   ]
  }
 ],
 "metadata": {
  "kernelspec": {
   "display_name": "Python 3 (ipykernel)",
   "language": "python",
   "name": "python3"
  },
  "language_info": {
   "codemirror_mode": {
    "name": "ipython",
    "version": 3
   },
   "file_extension": ".py",
   "mimetype": "text/x-python",
   "name": "python",
   "nbconvert_exporter": "python",
   "pygments_lexer": "ipython3",
   "version": "3.10.9"
  }
 },
 "nbformat": 4,
 "nbformat_minor": 5
}
