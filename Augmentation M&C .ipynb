{
 "cells": [
  {
   "cell_type": "code",
   "execution_count": 14,
   "id": "44895468",
   "metadata": {},
   "outputs": [
    {
     "name": "stdout",
     "output_type": "stream",
     "text": [
      "Augmented images done \n"
     ]
    }
   ],
   "source": [
    "import os\n",
    "from tensorflow.keras.preprocessing.image import ImageDataGenerator, load_img, img_to_array\n",
    "from PIL import Image\n",
    "\n",
    "input_folder = 'Median and clahe Filters/test/severe_dysplastic_MC_filter'\n",
    "output_folder = 'M&C Augmentation/test/severe_dysplastic_MC_filter_aug'\n",
    "\n",
    "# Create an ImageDataGenerator and specify the augmentation parameters\n",
    "datagen = ImageDataGenerator(\n",
    "    rotation_range=45,      # Rotate the image between -45 to 45 degrees\n",
    "    width_shift_range=0.2,  # Shift the width of the image by up to 20%\n",
    "    height_shift_range=0.2, # Shift the height of the image by up to 20%\n",
    "    shear_range=0.2,        # Apply shear transformation with a shear factor of 0.2\n",
    "    zoom_range=0.2,         # Zoom the image by up to 20%\n",
    "    horizontal_flip=True,   # Flip the image horizontally\n",
    "    vertical_flip=True     # Flip the image vertically\n",
    "    # Add more augmentation parameters here\n",
    ")\n",
    "\n",
    "# Generate augmented images and save them to the output folder\n",
    "for filename in os.listdir(input_folder):\n",
    "    image_path = os.path.join(input_folder, filename)\n",
    "\n",
    "    # Load the image using Keras' load_img function\n",
    "    image = load_img(image_path)\n",
    "\n",
    "    # Convert the image to a NumPy array\n",
    "    image_array = img_to_array(image)\n",
    "\n",
    "    # Reshape the image array to match the expected input shape of the generator\n",
    "    image_array = image_array.reshape((1,) + image_array.shape)\n",
    "\n",
    "    # Generate augmented images using the datagen.flow() method\n",
    "    augmented_images = datagen.flow(\n",
    "        image_array,\n",
    "        batch_size=1,\n",
    "        save_to_dir=output_folder,  # Save the augmented images to the output folder\n",
    "        save_prefix='augmented',    # Prefix to use for the saved images\n",
    "        save_format='png'           # Save images in PNG format\n",
    "    )\n",
    "\n",
    "    # Generate and save the augmented images\n",
    "    num_augmented_images = 5  # Specify the number of augmented images to generate\n",
    "    for i, augmented_image in enumerate(augmented_images):\n",
    "        if i >= num_augmented_images:\n",
    "            break\n",
    "\n",
    "        # Convert the augmented image to PIL format\n",
    "        augmented_image_pil = Image.fromarray(augmented_image[0].astype('uint8'))\n",
    "\n",
    "        # Save the augmented image as PNG\n",
    "        save_filename = f'{filename.split(\".\")[0]}_{i}.png'\n",
    "        save_path = os.path.join(output_folder, save_filename)\n",
    "        augmented_image_pil.save(save_path)\n",
    "print(\"Augmented images done \")\n"
   ]
  }
 ],
 "metadata": {
  "kernelspec": {
   "display_name": "Python 3 (ipykernel)",
   "language": "python",
   "name": "python3"
  },
  "language_info": {
   "codemirror_mode": {
    "name": "ipython",
    "version": 3
   },
   "file_extension": ".py",
   "mimetype": "text/x-python",
   "name": "python",
   "nbconvert_exporter": "python",
   "pygments_lexer": "ipython3",
   "version": "3.10.9"
  }
 },
 "nbformat": 4,
 "nbformat_minor": 5
}
