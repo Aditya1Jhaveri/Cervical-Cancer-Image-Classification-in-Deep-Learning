{
 "cells": [
  {
   "cell_type": "code",
   "execution_count": 2,
   "id": "b990ddeb",
   "metadata": {
    "scrolled": true
   },
   "outputs": [
    {
     "name": "stdout",
     "output_type": "stream",
     "text": [
      "Found 6951 images belonging to 7 classes.\n",
      "Found 3001 images belonging to 7 classes.\n"
     ]
    }
   ],
   "source": [
    "import tensorflow as tf\n",
    "from tensorflow.keras.layers import Input, Dense\n",
    "from tensorflow.keras.models import Model\n",
    "from tensorflow.keras.applications import EfficientNetB0\n",
    "from tensorflow.keras.preprocessing.image import ImageDataGenerator\n",
    "from tensorflow.keras.callbacks import EarlyStopping\n",
    "\n",
    "# Set the paths to the dataset\n",
    "train_data_dir = 'NLM Augmentation/train'\n",
    "test_data_dir = 'NLM Augmentation/test'\n",
    "\n",
    "# Define image dimensions and batch size\n",
    "img_width, img_height = 224, 224\n",
    "batch_size = 16\n",
    "\n",
    "# Data augmentation\n",
    "train_datagen = ImageDataGenerator(\n",
    "    rescale=1. / 255,\n",
    "    rotation_range=20,\n",
    "    width_shift_range=0.2,\n",
    "    height_shift_range=0.2,\n",
    "    shear_range=0.2,\n",
    "    zoom_range=0.2,\n",
    "    horizontal_flip=True\n",
    ")\n",
    "\n",
    "test_datagen = ImageDataGenerator(rescale=1. / 255)\n",
    "\n",
    "# Load the pretrained model for feature extraction\n",
    "base_model = EfficientNetB0(weights='imagenet', include_top=False, input_shape=(img_width, img_height, 3))\n",
    "\n",
    "# Freeze the base model's layers\n",
    "base_model.trainable = False\n",
    "\n",
    "# Define the number of classes based on your dataset\n",
    "num_classes = 7\n",
    "\n",
    "# Transformer-based feature extraction\n",
    "inputs = Input(shape=(img_width, img_height, 3))\n",
    "x = base_model(inputs, training=False)\n",
    "x = tf.keras.layers.GlobalAveragePooling2D()(x)\n",
    "outputs = Dense(num_classes, activation='softmax')(x)\n",
    "\n",
    "model = Model(inputs, outputs)\n",
    "\n",
    "# Compile the model\n",
    "model.compile(optimizer='adam', loss='categorical_crossentropy', metrics=['accuracy'])\n",
    "\n",
    "# Set up data generators\n",
    "train_generator = train_datagen.flow_from_directory(\n",
    "    train_data_dir,\n",
    "    target_size=(img_width, img_height),\n",
    "    batch_size=batch_size,\n",
    "    class_mode='categorical',\n",
    "    shuffle=True\n",
    ")\n",
    "\n",
    "test_generator = test_datagen.flow_from_directory(\n",
    "    test_data_dir,\n",
    "    target_size=(img_width, img_height),\n",
    "    batch_size=batch_size,\n",
    "    class_mode='categorical',\n",
    "    shuffle=False\n",
    ")\n",
    "\n",
    "# Specify the number of training and validation steps\n",
    "train_steps = train_generator.samples // batch_size\n",
    "val_steps = test_generator.samples // batch_size\n"
   ]
  },
  {
   "cell_type": "code",
   "execution_count": 2,
   "id": "1b63b5b0",
   "metadata": {},
   "outputs": [
    {
     "name": "stdout",
     "output_type": "stream",
     "text": [
      "Epoch 1/5\n",
      "434/434 [==============================] - 623s 1s/step - loss: 1.9065 - accuracy: 0.1980 - val_loss: 1.9063 - val_accuracy: 0.2129\n",
      "Epoch 2/5\n",
      "434/434 [==============================] - 663s 2s/step - loss: 1.9155 - accuracy: 0.1918 - val_loss: 1.8968 - val_accuracy: 0.2129\n",
      "Epoch 3/5\n",
      "434/434 [==============================] - 978s 2s/step - loss: 1.9059 - accuracy: 0.2053 - val_loss: 1.9028 - val_accuracy: 0.1574\n",
      "Epoch 4/5\n",
      "434/434 [==============================] - 754s 2s/step - loss: 1.9071 - accuracy: 0.1939 - val_loss: 1.9133 - val_accuracy: 0.2129\n",
      "Epoch 5/5\n",
      "434/434 [==============================] - 610s 1s/step - loss: 1.9088 - accuracy: 0.1968 - val_loss: 1.9009 - val_accuracy: 0.1975\n"
     ]
    }
   ],
   "source": [
    "# First part of training (5 epochs)\n",
    "history_1 = model.fit(\n",
    "    train_generator,\n",
    "    steps_per_epoch=train_steps,\n",
    "    epochs=5,\n",
    "    validation_data=test_generator,\n",
    "    validation_steps=val_steps,\n",
    "    callbacks=[EarlyStopping(patience=3)]\n",
    ")\n",
    "print(\"Epoch from 1 to 5 done\")"
   ]
  },
  {
   "cell_type": "code",
   "execution_count": 7,
   "id": "65c8da85",
   "metadata": {},
   "outputs": [
    {
     "name": "stdout",
     "output_type": "stream",
     "text": [
      "History from the first part (epochs 1 to 5):  {'loss': [1.9064651727676392, 1.915471076965332, 1.9058738946914673, 1.9070757627487183, 1.9088196754455566], 'accuracy': [0.19798125326633453, 0.19178082048892975, 0.20533525943756104, 0.19394376873970032, 0.19682767987251282], 'val_loss': [1.906302571296692, 1.8967750072479248, 1.9027577638626099, 1.9133270978927612, 1.9008536338806152], 'val_accuracy': [0.2129010707139969, 0.2129010707139969, 0.15741978585720062, 0.2129010707139969, 0.1975267380475998]}\n"
     ]
    }
   ],
   "source": [
    "# Save the model weights separately\n",
    "model.save_weights('Transformer approach epochs/transformer_model_part1_epoch5.h5')\n",
    "\n",
    "# Serialize and save the history data\n",
    "import json\n",
    "with open('transformer_model_part1_history.json', 'w') as f:\n",
    "    json.dump(history_1.history, f)\n",
    "# Display the history from the first part of training\n",
    "print(\"History from the first part (epoch 1 to 5): \",history_1.history)\n"
   ]
  },
  {
   "cell_type": "code",
   "execution_count": 3,
   "id": "9807d75b",
   "metadata": {
    "scrolled": true
   },
   "outputs": [
    {
     "name": "stdout",
     "output_type": "stream",
     "text": [
      "Epoch 6/10\n",
      "434/434 [==============================] - 1659s 4s/step - loss: 202.3901 - accuracy: 0.1958 - val_loss: 1.8851 - val_accuracy: 0.2129\n",
      "Epoch 7/10\n",
      "434/434 [==============================] - 1394s 3s/step - loss: 1.8873 - accuracy: 0.2027 - val_loss: 1.8843 - val_accuracy: 0.2129\n",
      "Epoch 8/10\n",
      "434/434 [==============================] - 1379s 3s/step - loss: 1.8876 - accuracy: 0.2061 - val_loss: 1.8948 - val_accuracy: 0.1975\n",
      "Epoch 9/10\n",
      "434/434 [==============================] - 1372s 3s/step - loss: 1.8867 - accuracy: 0.2009 - val_loss: 1.8890 - val_accuracy: 0.2129\n",
      "Epoch 10/10\n",
      "434/434 [==============================] - 1380s 3s/step - loss: 1.8826 - accuracy: 0.2071 - val_loss: 1.8839 - val_accuracy: 0.2129\n",
      "Epochs from 6 to 10 done\n"
     ]
    }
   ],
   "source": [
    "# If the error is showing of model then only run the first cell.\n",
    "\n",
    "# Load the model weights from Cell 1\n",
    "model.load_weights('transformer_model_part1_weights.h5')\n",
    "\n",
    "# Unfreeze the base model's layers\n",
    "base_model.trainable = True\n",
    "\n",
    "# Compile the model after unfreezing\n",
    "model.compile(optimizer='adam', loss='categorical_crossentropy', metrics=['accuracy'])\n",
    "\n",
    "# Continue training the model for 5 additional epochs (epochs 6 to 10)\n",
    "history_2 = model.fit(\n",
    "    train_generator,\n",
    "    steps_per_epoch=train_steps,\n",
    "    epochs=10,#here the epoch will start from 6 to 10\n",
    "    initial_epoch=5,# this indicate that initial 5 epoch has been done\n",
    "    validation_data=test_generator,\n",
    "    validation_steps=val_steps,\n",
    "    callbacks=[EarlyStopping(patience=3)]\n",
    ")\n",
    "\n",
    "print(\"Epoch from 6 to 10 done\")"
   ]
  },
  {
   "cell_type": "code",
   "execution_count": 7,
   "id": "089c6dd4",
   "metadata": {},
   "outputs": [
    {
     "name": "stdout",
     "output_type": "stream",
     "text": [
      "History from the Second part (epoch 6 to 10):  {'loss': [202.39010620117188, 1.8872733116149902, 1.8876018524169922, 1.8866609334945679, 1.8826379776000977], 'accuracy': [0.19581831991672516, 0.20273973047733307, 0.20605623722076416, 0.20086517930030823, 0.207065612077713], 'val_loss': [1.8851076364517212, 1.8843175172805786, 1.8947659730911255, 1.8889857530593872, 1.8839021921157837], 'val_accuracy': [0.2129010707139969, 0.2129010707139969, 0.1975267380475998, 0.2129010707139969, 0.2129010707139969]}\n"
     ]
    }
   ],
   "source": [
    "# Save the model weights separately\n",
    "model.save_weights('Transformer approach epochs/transformer_model_part2_epoch10 .h5')\n",
    "\n",
    "# # Serialize and save the history data for the second part of training\n",
    "import json\n",
    "with open('transformer_model_part2_history.json', 'w') as f:\n",
    "    json.dump(history_2.history, f)\n",
    "    \n",
    "print(\"History from the Second part (epoch 6 to 10): \",history_2.history)"
   ]
  },
  {
   "cell_type": "code",
   "execution_count": 9,
   "id": "1aae027c",
   "metadata": {},
   "outputs": [
    {
     "name": "stdout",
     "output_type": "stream",
     "text": [
      "435/435 [==============================] - 330s 755ms/step\n",
      "188/188 [==============================] - 137s 727ms/step\n"
     ]
    }
   ],
   "source": [
    "import numpy as np\n",
    "# Get the outputs of the global average pooling layer\n",
    "feature_outputs = model.get_layer('global_average_pooling2d').output\n",
    "\n",
    "# Create a new model with the feature outputs as the output layer\n",
    "feature_extraction_model = Model(inputs=model.input, outputs=feature_outputs)\n",
    "\n",
    "# Extract features from the train and test data\n",
    "train_features = feature_extraction_model.predict(train_generator)\n",
    "test_features = feature_extraction_model.predict(test_generator)\n",
    "\n",
    "# Save the extracted features\n",
    "train_features_path = 'Feature_Extraction/train/train_features.npy'\n",
    "test_features_path = 'Feature_Extraction/test/test_features.npy'\n",
    "\n",
    "np.save(train_features_path, train_features)\n",
    "np.save(test_features_path, test_features)"
   ]
  },
  {
   "cell_type": "code",
   "execution_count": 10,
   "id": "d03160fa",
   "metadata": {},
   "outputs": [
    {
     "name": "stdout",
     "output_type": "stream",
     "text": [
      "Number of images in the training set: 6951\n",
      "Number of images in the test set: 3001\n",
      "Number of features extracted per image: 1280\n"
     ]
    }
   ],
   "source": [
    "import numpy as np\n",
    "train_features = np.load('Feature_Extraction/train/train_features.npy')\n",
    "test_features = np.load('Feature_Extraction/test/test_features.npy')\n",
    "\n",
    "# Convert the feature arrays to lists\n",
    "train_features_list = train_features.tolist()\n",
    "test_features_list = test_features.tolist()\n",
    "\n",
    "# Print the number of images and the number of features extracted per image\n",
    "print(\"Number of images in the training set:\", len(train_features_list))\n",
    "print(\"Number of images in the test set:\", len(test_features_list))\n",
    "print(\"Number of features extracted per image:\", len(train_features_list[0]))"
   ]
  }
 ],
 "metadata": {
  "kernelspec": {
   "display_name": "Python 3 (ipykernel)",
   "language": "python",
   "name": "python3"
  },
  "language_info": {
   "codemirror_mode": {
    "name": "ipython",
    "version": 3
   },
   "file_extension": ".py",
   "mimetype": "text/x-python",
   "name": "python",
   "nbconvert_exporter": "python",
   "pygments_lexer": "ipython3",
   "version": "3.10.9"
  }
 },
 "nbformat": 4,
 "nbformat_minor": 5
}
